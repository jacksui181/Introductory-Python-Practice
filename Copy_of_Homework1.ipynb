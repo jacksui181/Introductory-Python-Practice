{
  "nbformat": 4,
  "nbformat_minor": 0,
  "metadata": {
    "colab": {
      "name": "Copy of Homework1.ipynb",
      "provenance": [],
      "collapsed_sections": []
    },
    "kernelspec": {
      "name": "python3",
      "display_name": "Python 3"
    }
  },
  "cells": [
    {
      "cell_type": "markdown",
      "metadata": {
        "id": "hm8RAKinXsIP"
      },
      "source": [
        "## **Homework 1**\n",
        "\n",
        "### Create a copy of the notebook to start answering the questions. Name your notebook in the format HW1_lastname_firstname.ipynb to facilitate the grading process. \n",
        "\n",
        "### Answer all the questions, test your code to ensure there are no errors and the results are as expected. Once you have answered all the questions, save the final copy, then go to File-> click on Download.ipynb. Once the local copy has been downloaded, submit your file on Blackboard under the corresponding assignment section. Also provide us a link to your notebook during submission. \n",
        "\n",
        "### **The due date of this homework is 02/05/2021 (Friday).**\n",
        "\n",
        "### Please ensure you follow all the steps mentioned in the homework.\n",
        "\n",
        "### All the questions have a sample input and output to help you understand the question. Please note that your programs will be tested for other sets of inputs and outputs along with the sample provided. So test your code for other inputs.\n",
        "\n",
        "### You can submit your solutions any number of times until the deadline.\n"
      ]
    },
    {
      "cell_type": "markdown",
      "metadata": {
        "id": "uacFrEaZfcfq"
      },
      "source": [
        "##### Q1. Write a program that prompts the user to enter a password then prints the length of the password.\n",
        "\n",
        "```\n",
        "Enter your password: hello\n",
        "Your password is 5 long.\n",
        "```\n",
        "\n",
        "\n"
      ]
    },
    {
      "cell_type": "code",
      "metadata": {
        "id": "avPyES14ftCt"
      },
      "source": [
        "# Type solution here\n",
        "password = input(\"Enter your password: \")\n",
        "print(\"Your password is\", str(len(password)), \"long.\")"
      ],
      "execution_count": null,
      "outputs": []
    },
    {
      "cell_type": "markdown",
      "metadata": {
        "id": "ekh-kABuItli"
      },
      "source": [
        ""
      ]
    },
    {
      "cell_type": "markdown",
      "metadata": {
        "id": "K1yko-xUItU3"
      },
      "source": [
        ""
      ]
    },
    {
      "cell_type": "markdown",
      "metadata": {
        "id": "behD0j_Of2TW"
      },
      "source": [
        "##### Q2. Write a program that prompts the user to enter their full name then prints the number of characters in their name (do not count spaces).\n",
        "\n",
        "```\n",
        "What is your name? Amulya Katti\n",
        "Amulya Katti your name has 11 characters.\n",
        "```"
      ]
    },
    {
      "cell_type": "code",
      "metadata": {
        "id": "XSdIRjwlhSlu",
        "colab": {
          "base_uri": "https://localhost:8080/"
        },
        "outputId": "5f34e7de-2964-4e00-c3b0-500a73c8c399"
      },
      "source": [
        "# Type solution here\n",
        "name = input(\"What is your name? \")\n",
        "print(name, \"your name has\", str(len(name.replace(\" \", \"\"))), \"characters.\")"
      ],
      "execution_count": null,
      "outputs": [
        {
          "output_type": "stream",
          "text": [
            "What is your name? j j\n",
            "j j your name has 2 characters.\n"
          ],
          "name": "stdout"
        }
      ]
    },
    {
      "cell_type": "markdown",
      "metadata": {
        "id": "5KHOWF6FhVHV"
      },
      "source": [
        "##### Q3. Write a program that prompts the user to enter a month (as a number), then prints the name of the month and the number of days in that month. Ensure that the user inputs a valid month and handle any error cases.\n",
        "\n",
        "```\n",
        "Enter the month number: 9\n",
        "September has 30 days\n",
        "```"
      ]
    },
    {
      "cell_type": "code",
      "metadata": {
        "id": "KhS-SAEThyTG",
        "colab": {
          "base_uri": "https://localhost:8080/"
        },
        "outputId": "7c3e23d0-c6a3-4e74-a081-49a7b0eb1b28"
      },
      "source": [
        "# Type solution here\n",
        "year = {1:(\"January\", 31),\n",
        "             2:(\"Febuary\", 30),\n",
        "             3:(\"March\", 31),\n",
        "             4:(\"April\", 30),\n",
        "             5:(\"May\", 31),\n",
        "             6:(\"June\", 30),\n",
        "             7:(\"July\", 31),\n",
        "             8:(\"August\", 31),\n",
        "             9:(\"September\", 30),\n",
        "             10:(\"October\", 31),\n",
        "             11:(\"November\", 30),\n",
        "             12:(\"December\", 31)}\n",
        "month = int(input(\"Enter the month number: \"))\n",
        "while month not in year:\n",
        "  month = int(input(\"Invalid, enter a correct month number: \"))\n",
        "print(year[month][0], \"has\", year[month][1], \"days\")\n"
      ],
      "execution_count": null,
      "outputs": [
        {
          "output_type": "stream",
          "text": [
            "Enter the month number: 1\n",
            "January has 31 days\n"
          ],
          "name": "stdout"
        }
      ]
    },
    {
      "cell_type": "markdown",
      "metadata": {
        "id": "O7lnAdGlh6Xa"
      },
      "source": [
        "##### Q4. Write a program that prompts the user to enter a loan amount, annual interest rate, and number of years  for a car loan. Then calculate and print the monthly payment amount.\n",
        "\n",
        "Note:\n",
        "```\n",
        "PMT= [PV*i*((1+i)^n)]/[((1+i)^n)-1]\n",
        "```\n",
        "PMT is the monthly payment\n",
        "\n",
        "PV is the loan amount\n",
        "\n",
        "i is the interest rate per month in decimal form (interest rate percentage divided by 12)\n",
        "\n",
        "n is the number of months (term of the loan in months)\n",
        "\n",
        "```\n",
        "Loan Amount: 30000.00\n",
        "Annual Interest Rate: 4.00\n",
        "Years: 5\n",
        "Your monthly payment is: $552.50\n",
        "```"
      ]
    },
    {
      "cell_type": "code",
      "metadata": {
        "id": "p4B5JH5GiTs9",
        "colab": {
          "base_uri": "https://localhost:8080/"
        },
        "outputId": "8a153bed-93fb-4ff2-c428-1e5930e90ff0"
      },
      "source": [
        "# Type solution here\n",
        "PV = int(input(\"Loan Amount: \"))\n",
        "i = int(input(\"Annual Interest Rate: \"))/1200\n",
        "n = int(input(\"Years: \"))*12\n",
        "PMT = (PV*i*((1+i)**n))/(((1+i)**n)-1)\n",
        "print(\"Your monthly payment is: \", str(PMT))"
      ],
      "execution_count": null,
      "outputs": [
        {
          "output_type": "stream",
          "text": [
            "Loan Amount: 30000\n",
            "Annual Interest Rate: 4\n",
            "Years: 5\n",
            "Your monthly payment is:  552.4956616579791\n"
          ],
          "name": "stdout"
        }
      ]
    },
    {
      "cell_type": "markdown",
      "metadata": {
        "id": "SjiolJKgiWV-"
      },
      "source": [
        "##### Q5. Write a program to that prompts the user to enter a string. Then check whether or not the string is a palindrome.\n",
        "\n",
        "```\n",
        "Enter a string: Madam\n",
        "Madam, is a palindrome!\n",
        "```"
      ]
    },
    {
      "cell_type": "code",
      "metadata": {
        "id": "F5_M934Ri0es",
        "colab": {
          "base_uri": "https://localhost:8080/"
        },
        "outputId": "187ee87d-e22e-4af6-cea7-d02f6e63e821"
      },
      "source": [
        "# Type solution here\n",
        "test = input(\"Enter a string: \")\n",
        "if test == test[::-1]:\n",
        "  print(test, \"is a palindrome!\")\n",
        "else:\n",
        "    print(test, \"isn't a palindrome.\")\n"
      ],
      "execution_count": null,
      "outputs": [
        {
          "output_type": "stream",
          "text": [
            "Enter a string: madam\n",
            "madam is a palindrome!\n"
          ],
          "name": "stdout"
        }
      ]
    },
    {
      "cell_type": "markdown",
      "metadata": {
        "id": "BLBD6n9vkJEu"
      },
      "source": [
        "##### Q6. Write a program to compute and print all possible combinations of change for \\$1. Denominations to be considered – quarter, dime, nickel, penny.\n",
        "\n",
        "Hint: Use nested loops (loops within loops for the various denominations of coins)\n",
        "\n",
        "```\n",
        "Change for $1:\n",
        "0 quarters, 0 dimes, 0 nickels, 100 pennies\n",
        "…\n",
        "4 quarters, 0 dimes, 0 nickels, 0 pennies\n",
        "```"
      ]
    },
    {
      "cell_type": "code",
      "metadata": {
        "id": "kAQsTjwDkZZ5",
        "colab": {
          "base_uri": "https://localhost:8080/"
        },
        "outputId": "5fa6e4de-48e8-4959-e5fb-94c4c38ece60"
      },
      "source": [
        "# Type solution here\n",
        "combinations = []\n",
        "for quarters in range(0,5):\n",
        "  for dimes in range(0,11):\n",
        "    for nickels in range(0,21):\n",
        "      for pennies in range(0,101):\n",
        "        if (25*quarters + 10*dimes + 5*nickels + 1*pennies == 100):\n",
        "          combinations.append([quarters,dimes,nickels,pennies])\n",
        "print(\"Change for $1:\")\n",
        "\n",
        "for results in combinations:\n",
        "  print(str(results[0]),\"quarters,\", str(results[1]),\"dimes,\", str(results[2]),\"nickels,\", str(results[3]),\"pennies\" )\n",
        "\n",
        "\n",
        "\n",
        "  "
      ],
      "execution_count": null,
      "outputs": [
        {
          "output_type": "stream",
          "text": [
            "Change for $1:\n",
            "0 quarters, 0 dimes, 0 nickels, 100 pennies\n",
            "0 quarters, 0 dimes, 1 nickels, 95 pennies\n",
            "0 quarters, 0 dimes, 2 nickels, 90 pennies\n",
            "0 quarters, 0 dimes, 3 nickels, 85 pennies\n",
            "0 quarters, 0 dimes, 4 nickels, 80 pennies\n",
            "0 quarters, 0 dimes, 5 nickels, 75 pennies\n",
            "0 quarters, 0 dimes, 6 nickels, 70 pennies\n",
            "0 quarters, 0 dimes, 7 nickels, 65 pennies\n",
            "0 quarters, 0 dimes, 8 nickels, 60 pennies\n",
            "0 quarters, 0 dimes, 9 nickels, 55 pennies\n",
            "0 quarters, 0 dimes, 10 nickels, 50 pennies\n",
            "0 quarters, 0 dimes, 11 nickels, 45 pennies\n",
            "0 quarters, 0 dimes, 12 nickels, 40 pennies\n",
            "0 quarters, 0 dimes, 13 nickels, 35 pennies\n",
            "0 quarters, 0 dimes, 14 nickels, 30 pennies\n",
            "0 quarters, 0 dimes, 15 nickels, 25 pennies\n",
            "0 quarters, 0 dimes, 16 nickels, 20 pennies\n",
            "0 quarters, 0 dimes, 17 nickels, 15 pennies\n",
            "0 quarters, 0 dimes, 18 nickels, 10 pennies\n",
            "0 quarters, 0 dimes, 19 nickels, 5 pennies\n",
            "0 quarters, 0 dimes, 20 nickels, 0 pennies\n",
            "0 quarters, 1 dimes, 0 nickels, 90 pennies\n",
            "0 quarters, 1 dimes, 1 nickels, 85 pennies\n",
            "0 quarters, 1 dimes, 2 nickels, 80 pennies\n",
            "0 quarters, 1 dimes, 3 nickels, 75 pennies\n",
            "0 quarters, 1 dimes, 4 nickels, 70 pennies\n",
            "0 quarters, 1 dimes, 5 nickels, 65 pennies\n",
            "0 quarters, 1 dimes, 6 nickels, 60 pennies\n",
            "0 quarters, 1 dimes, 7 nickels, 55 pennies\n",
            "0 quarters, 1 dimes, 8 nickels, 50 pennies\n",
            "0 quarters, 1 dimes, 9 nickels, 45 pennies\n",
            "0 quarters, 1 dimes, 10 nickels, 40 pennies\n",
            "0 quarters, 1 dimes, 11 nickels, 35 pennies\n",
            "0 quarters, 1 dimes, 12 nickels, 30 pennies\n",
            "0 quarters, 1 dimes, 13 nickels, 25 pennies\n",
            "0 quarters, 1 dimes, 14 nickels, 20 pennies\n",
            "0 quarters, 1 dimes, 15 nickels, 15 pennies\n",
            "0 quarters, 1 dimes, 16 nickels, 10 pennies\n",
            "0 quarters, 1 dimes, 17 nickels, 5 pennies\n",
            "0 quarters, 1 dimes, 18 nickels, 0 pennies\n",
            "0 quarters, 2 dimes, 0 nickels, 80 pennies\n",
            "0 quarters, 2 dimes, 1 nickels, 75 pennies\n",
            "0 quarters, 2 dimes, 2 nickels, 70 pennies\n",
            "0 quarters, 2 dimes, 3 nickels, 65 pennies\n",
            "0 quarters, 2 dimes, 4 nickels, 60 pennies\n",
            "0 quarters, 2 dimes, 5 nickels, 55 pennies\n",
            "0 quarters, 2 dimes, 6 nickels, 50 pennies\n",
            "0 quarters, 2 dimes, 7 nickels, 45 pennies\n",
            "0 quarters, 2 dimes, 8 nickels, 40 pennies\n",
            "0 quarters, 2 dimes, 9 nickels, 35 pennies\n",
            "0 quarters, 2 dimes, 10 nickels, 30 pennies\n",
            "0 quarters, 2 dimes, 11 nickels, 25 pennies\n",
            "0 quarters, 2 dimes, 12 nickels, 20 pennies\n",
            "0 quarters, 2 dimes, 13 nickels, 15 pennies\n",
            "0 quarters, 2 dimes, 14 nickels, 10 pennies\n",
            "0 quarters, 2 dimes, 15 nickels, 5 pennies\n",
            "0 quarters, 2 dimes, 16 nickels, 0 pennies\n",
            "0 quarters, 3 dimes, 0 nickels, 70 pennies\n",
            "0 quarters, 3 dimes, 1 nickels, 65 pennies\n",
            "0 quarters, 3 dimes, 2 nickels, 60 pennies\n",
            "0 quarters, 3 dimes, 3 nickels, 55 pennies\n",
            "0 quarters, 3 dimes, 4 nickels, 50 pennies\n",
            "0 quarters, 3 dimes, 5 nickels, 45 pennies\n",
            "0 quarters, 3 dimes, 6 nickels, 40 pennies\n",
            "0 quarters, 3 dimes, 7 nickels, 35 pennies\n",
            "0 quarters, 3 dimes, 8 nickels, 30 pennies\n",
            "0 quarters, 3 dimes, 9 nickels, 25 pennies\n",
            "0 quarters, 3 dimes, 10 nickels, 20 pennies\n",
            "0 quarters, 3 dimes, 11 nickels, 15 pennies\n",
            "0 quarters, 3 dimes, 12 nickels, 10 pennies\n",
            "0 quarters, 3 dimes, 13 nickels, 5 pennies\n",
            "0 quarters, 3 dimes, 14 nickels, 0 pennies\n",
            "0 quarters, 4 dimes, 0 nickels, 60 pennies\n",
            "0 quarters, 4 dimes, 1 nickels, 55 pennies\n",
            "0 quarters, 4 dimes, 2 nickels, 50 pennies\n",
            "0 quarters, 4 dimes, 3 nickels, 45 pennies\n",
            "0 quarters, 4 dimes, 4 nickels, 40 pennies\n",
            "0 quarters, 4 dimes, 5 nickels, 35 pennies\n",
            "0 quarters, 4 dimes, 6 nickels, 30 pennies\n",
            "0 quarters, 4 dimes, 7 nickels, 25 pennies\n",
            "0 quarters, 4 dimes, 8 nickels, 20 pennies\n",
            "0 quarters, 4 dimes, 9 nickels, 15 pennies\n",
            "0 quarters, 4 dimes, 10 nickels, 10 pennies\n",
            "0 quarters, 4 dimes, 11 nickels, 5 pennies\n",
            "0 quarters, 4 dimes, 12 nickels, 0 pennies\n",
            "0 quarters, 5 dimes, 0 nickels, 50 pennies\n",
            "0 quarters, 5 dimes, 1 nickels, 45 pennies\n",
            "0 quarters, 5 dimes, 2 nickels, 40 pennies\n",
            "0 quarters, 5 dimes, 3 nickels, 35 pennies\n",
            "0 quarters, 5 dimes, 4 nickels, 30 pennies\n",
            "0 quarters, 5 dimes, 5 nickels, 25 pennies\n",
            "0 quarters, 5 dimes, 6 nickels, 20 pennies\n",
            "0 quarters, 5 dimes, 7 nickels, 15 pennies\n",
            "0 quarters, 5 dimes, 8 nickels, 10 pennies\n",
            "0 quarters, 5 dimes, 9 nickels, 5 pennies\n",
            "0 quarters, 5 dimes, 10 nickels, 0 pennies\n",
            "0 quarters, 6 dimes, 0 nickels, 40 pennies\n",
            "0 quarters, 6 dimes, 1 nickels, 35 pennies\n",
            "0 quarters, 6 dimes, 2 nickels, 30 pennies\n",
            "0 quarters, 6 dimes, 3 nickels, 25 pennies\n",
            "0 quarters, 6 dimes, 4 nickels, 20 pennies\n",
            "0 quarters, 6 dimes, 5 nickels, 15 pennies\n",
            "0 quarters, 6 dimes, 6 nickels, 10 pennies\n",
            "0 quarters, 6 dimes, 7 nickels, 5 pennies\n",
            "0 quarters, 6 dimes, 8 nickels, 0 pennies\n",
            "0 quarters, 7 dimes, 0 nickels, 30 pennies\n",
            "0 quarters, 7 dimes, 1 nickels, 25 pennies\n",
            "0 quarters, 7 dimes, 2 nickels, 20 pennies\n",
            "0 quarters, 7 dimes, 3 nickels, 15 pennies\n",
            "0 quarters, 7 dimes, 4 nickels, 10 pennies\n",
            "0 quarters, 7 dimes, 5 nickels, 5 pennies\n",
            "0 quarters, 7 dimes, 6 nickels, 0 pennies\n",
            "0 quarters, 8 dimes, 0 nickels, 20 pennies\n",
            "0 quarters, 8 dimes, 1 nickels, 15 pennies\n",
            "0 quarters, 8 dimes, 2 nickels, 10 pennies\n",
            "0 quarters, 8 dimes, 3 nickels, 5 pennies\n",
            "0 quarters, 8 dimes, 4 nickels, 0 pennies\n",
            "0 quarters, 9 dimes, 0 nickels, 10 pennies\n",
            "0 quarters, 9 dimes, 1 nickels, 5 pennies\n",
            "0 quarters, 9 dimes, 2 nickels, 0 pennies\n",
            "0 quarters, 10 dimes, 0 nickels, 0 pennies\n",
            "1 quarters, 0 dimes, 0 nickels, 75 pennies\n",
            "1 quarters, 0 dimes, 1 nickels, 70 pennies\n",
            "1 quarters, 0 dimes, 2 nickels, 65 pennies\n",
            "1 quarters, 0 dimes, 3 nickels, 60 pennies\n",
            "1 quarters, 0 dimes, 4 nickels, 55 pennies\n",
            "1 quarters, 0 dimes, 5 nickels, 50 pennies\n",
            "1 quarters, 0 dimes, 6 nickels, 45 pennies\n",
            "1 quarters, 0 dimes, 7 nickels, 40 pennies\n",
            "1 quarters, 0 dimes, 8 nickels, 35 pennies\n",
            "1 quarters, 0 dimes, 9 nickels, 30 pennies\n",
            "1 quarters, 0 dimes, 10 nickels, 25 pennies\n",
            "1 quarters, 0 dimes, 11 nickels, 20 pennies\n",
            "1 quarters, 0 dimes, 12 nickels, 15 pennies\n",
            "1 quarters, 0 dimes, 13 nickels, 10 pennies\n",
            "1 quarters, 0 dimes, 14 nickels, 5 pennies\n",
            "1 quarters, 0 dimes, 15 nickels, 0 pennies\n",
            "1 quarters, 1 dimes, 0 nickels, 65 pennies\n",
            "1 quarters, 1 dimes, 1 nickels, 60 pennies\n",
            "1 quarters, 1 dimes, 2 nickels, 55 pennies\n",
            "1 quarters, 1 dimes, 3 nickels, 50 pennies\n",
            "1 quarters, 1 dimes, 4 nickels, 45 pennies\n",
            "1 quarters, 1 dimes, 5 nickels, 40 pennies\n",
            "1 quarters, 1 dimes, 6 nickels, 35 pennies\n",
            "1 quarters, 1 dimes, 7 nickels, 30 pennies\n",
            "1 quarters, 1 dimes, 8 nickels, 25 pennies\n",
            "1 quarters, 1 dimes, 9 nickels, 20 pennies\n",
            "1 quarters, 1 dimes, 10 nickels, 15 pennies\n",
            "1 quarters, 1 dimes, 11 nickels, 10 pennies\n",
            "1 quarters, 1 dimes, 12 nickels, 5 pennies\n",
            "1 quarters, 1 dimes, 13 nickels, 0 pennies\n",
            "1 quarters, 2 dimes, 0 nickels, 55 pennies\n",
            "1 quarters, 2 dimes, 1 nickels, 50 pennies\n",
            "1 quarters, 2 dimes, 2 nickels, 45 pennies\n",
            "1 quarters, 2 dimes, 3 nickels, 40 pennies\n",
            "1 quarters, 2 dimes, 4 nickels, 35 pennies\n",
            "1 quarters, 2 dimes, 5 nickels, 30 pennies\n",
            "1 quarters, 2 dimes, 6 nickels, 25 pennies\n",
            "1 quarters, 2 dimes, 7 nickels, 20 pennies\n",
            "1 quarters, 2 dimes, 8 nickels, 15 pennies\n",
            "1 quarters, 2 dimes, 9 nickels, 10 pennies\n",
            "1 quarters, 2 dimes, 10 nickels, 5 pennies\n",
            "1 quarters, 2 dimes, 11 nickels, 0 pennies\n",
            "1 quarters, 3 dimes, 0 nickels, 45 pennies\n",
            "1 quarters, 3 dimes, 1 nickels, 40 pennies\n",
            "1 quarters, 3 dimes, 2 nickels, 35 pennies\n",
            "1 quarters, 3 dimes, 3 nickels, 30 pennies\n",
            "1 quarters, 3 dimes, 4 nickels, 25 pennies\n",
            "1 quarters, 3 dimes, 5 nickels, 20 pennies\n",
            "1 quarters, 3 dimes, 6 nickels, 15 pennies\n",
            "1 quarters, 3 dimes, 7 nickels, 10 pennies\n",
            "1 quarters, 3 dimes, 8 nickels, 5 pennies\n",
            "1 quarters, 3 dimes, 9 nickels, 0 pennies\n",
            "1 quarters, 4 dimes, 0 nickels, 35 pennies\n",
            "1 quarters, 4 dimes, 1 nickels, 30 pennies\n",
            "1 quarters, 4 dimes, 2 nickels, 25 pennies\n",
            "1 quarters, 4 dimes, 3 nickels, 20 pennies\n",
            "1 quarters, 4 dimes, 4 nickels, 15 pennies\n",
            "1 quarters, 4 dimes, 5 nickels, 10 pennies\n",
            "1 quarters, 4 dimes, 6 nickels, 5 pennies\n",
            "1 quarters, 4 dimes, 7 nickels, 0 pennies\n",
            "1 quarters, 5 dimes, 0 nickels, 25 pennies\n",
            "1 quarters, 5 dimes, 1 nickels, 20 pennies\n",
            "1 quarters, 5 dimes, 2 nickels, 15 pennies\n",
            "1 quarters, 5 dimes, 3 nickels, 10 pennies\n",
            "1 quarters, 5 dimes, 4 nickels, 5 pennies\n",
            "1 quarters, 5 dimes, 5 nickels, 0 pennies\n",
            "1 quarters, 6 dimes, 0 nickels, 15 pennies\n",
            "1 quarters, 6 dimes, 1 nickels, 10 pennies\n",
            "1 quarters, 6 dimes, 2 nickels, 5 pennies\n",
            "1 quarters, 6 dimes, 3 nickels, 0 pennies\n",
            "1 quarters, 7 dimes, 0 nickels, 5 pennies\n",
            "1 quarters, 7 dimes, 1 nickels, 0 pennies\n",
            "2 quarters, 0 dimes, 0 nickels, 50 pennies\n",
            "2 quarters, 0 dimes, 1 nickels, 45 pennies\n",
            "2 quarters, 0 dimes, 2 nickels, 40 pennies\n",
            "2 quarters, 0 dimes, 3 nickels, 35 pennies\n",
            "2 quarters, 0 dimes, 4 nickels, 30 pennies\n",
            "2 quarters, 0 dimes, 5 nickels, 25 pennies\n",
            "2 quarters, 0 dimes, 6 nickels, 20 pennies\n",
            "2 quarters, 0 dimes, 7 nickels, 15 pennies\n",
            "2 quarters, 0 dimes, 8 nickels, 10 pennies\n",
            "2 quarters, 0 dimes, 9 nickels, 5 pennies\n",
            "2 quarters, 0 dimes, 10 nickels, 0 pennies\n",
            "2 quarters, 1 dimes, 0 nickels, 40 pennies\n",
            "2 quarters, 1 dimes, 1 nickels, 35 pennies\n",
            "2 quarters, 1 dimes, 2 nickels, 30 pennies\n",
            "2 quarters, 1 dimes, 3 nickels, 25 pennies\n",
            "2 quarters, 1 dimes, 4 nickels, 20 pennies\n",
            "2 quarters, 1 dimes, 5 nickels, 15 pennies\n",
            "2 quarters, 1 dimes, 6 nickels, 10 pennies\n",
            "2 quarters, 1 dimes, 7 nickels, 5 pennies\n",
            "2 quarters, 1 dimes, 8 nickels, 0 pennies\n",
            "2 quarters, 2 dimes, 0 nickels, 30 pennies\n",
            "2 quarters, 2 dimes, 1 nickels, 25 pennies\n",
            "2 quarters, 2 dimes, 2 nickels, 20 pennies\n",
            "2 quarters, 2 dimes, 3 nickels, 15 pennies\n",
            "2 quarters, 2 dimes, 4 nickels, 10 pennies\n",
            "2 quarters, 2 dimes, 5 nickels, 5 pennies\n",
            "2 quarters, 2 dimes, 6 nickels, 0 pennies\n",
            "2 quarters, 3 dimes, 0 nickels, 20 pennies\n",
            "2 quarters, 3 dimes, 1 nickels, 15 pennies\n",
            "2 quarters, 3 dimes, 2 nickels, 10 pennies\n",
            "2 quarters, 3 dimes, 3 nickels, 5 pennies\n",
            "2 quarters, 3 dimes, 4 nickels, 0 pennies\n",
            "2 quarters, 4 dimes, 0 nickels, 10 pennies\n",
            "2 quarters, 4 dimes, 1 nickels, 5 pennies\n",
            "2 quarters, 4 dimes, 2 nickels, 0 pennies\n",
            "2 quarters, 5 dimes, 0 nickels, 0 pennies\n",
            "3 quarters, 0 dimes, 0 nickels, 25 pennies\n",
            "3 quarters, 0 dimes, 1 nickels, 20 pennies\n",
            "3 quarters, 0 dimes, 2 nickels, 15 pennies\n",
            "3 quarters, 0 dimes, 3 nickels, 10 pennies\n",
            "3 quarters, 0 dimes, 4 nickels, 5 pennies\n",
            "3 quarters, 0 dimes, 5 nickels, 0 pennies\n",
            "3 quarters, 1 dimes, 0 nickels, 15 pennies\n",
            "3 quarters, 1 dimes, 1 nickels, 10 pennies\n",
            "3 quarters, 1 dimes, 2 nickels, 5 pennies\n",
            "3 quarters, 1 dimes, 3 nickels, 0 pennies\n",
            "3 quarters, 2 dimes, 0 nickels, 5 pennies\n",
            "3 quarters, 2 dimes, 1 nickels, 0 pennies\n",
            "4 quarters, 0 dimes, 0 nickels, 0 pennies\n"
          ],
          "name": "stdout"
        }
      ]
    },
    {
      "cell_type": "markdown",
      "metadata": {
        "id": "rUPDjYiIkbgs"
      },
      "source": [
        "##### Q7. Ask the user to enter two positive integers between 1 and 100. Read those integers. Then output a multiplication table of the first number times the second number. \n",
        "\n",
        "Note: You have to ensure the entered numbers are between 1 and 100 only.\n",
        "\n",
        "```\n",
        "Please enter an integer: 5\n",
        "Please enter another integer: 20\n",
        "5 x 1 = 5\n",
        "5 x 2 = 10\n",
        "5 x 3 = 15\n",
        "…\n",
        "5 x 20 = 100\n",
        "```"
      ]
    },
    {
      "cell_type": "code",
      "metadata": {
        "id": "Qg0Orv1klHzA",
        "colab": {
          "base_uri": "https://localhost:8080/"
        },
        "outputId": "953895b4-e3b2-4732-926b-bc68984abeb0"
      },
      "source": [
        "# Type solution here\n",
        "number1 = int(input(\"Please enter an integer: \"))\n",
        "number2 = int(input(\"Please enter another integer: \"))\n",
        "n = 0\n",
        "\n",
        "while n <= number2-1:\n",
        "  n = n + 1\n",
        "  print(number1, \"x\", n, \"=\", str(number1*n))"
      ],
      "execution_count": null,
      "outputs": [
        {
          "output_type": "stream",
          "text": [
            "Please enter an integer: 5\n",
            "Please enter another integer: 10\n",
            "5 x 1 = 5\n",
            "5 x 2 = 10\n",
            "5 x 3 = 15\n",
            "5 x 4 = 20\n",
            "5 x 5 = 25\n",
            "5 x 6 = 30\n",
            "5 x 7 = 35\n",
            "5 x 8 = 40\n",
            "5 x 9 = 45\n",
            "5 x 10 = 50\n"
          ],
          "name": "stdout"
        }
      ]
    },
    {
      "cell_type": "markdown",
      "metadata": {
        "id": "SbnbPUPTlLD9"
      },
      "source": [
        "##### Q8. Write a program to ask the user to enter a password. Then check to see if it is a valid password based on these requirements -\n",
        "\n",
        "Must be at least 8 characters long\n",
        "\n",
        "Must contain both uppercase and lowercase letters\n",
        "\n",
        "Must contain at least one number between 0-9\n",
        "\n",
        "Must contain a special character -!,@,#,$\n",
        "\n",
        "If the password is not valid, ask the user to re-enter. This should continue until the user enters a valid password. After a valid password is entered, print Access Granted!\n",
        "\n",
        "```\n",
        "Please enter a password. Follow these requirements - \n",
        "a. Must be at least 8 characters long\n",
        "b. Must contain both uppercase and lowercase letters\n",
        "c. Must contain at least one number between 0-9\n",
        "d. Must contain a special character -!,@,#,$\n",
        "Password: HelloWorld1\n",
        "Invalid password. Try again!\n",
        "Password: Hello@World1\n",
        "Access Granted!\n",
        "```\n"
      ]
    },
    {
      "cell_type": "code",
      "metadata": {
        "id": "OXmZ177Rl-RV"
      },
      "source": [
        "# Type solution here\n",
        "print(\"Please enter a password. Follow these requirements -\", \"\\n\", \n",
        "      \"a. Must be at least 8 characters long\", \"\\n\", \n",
        "      \"b. Must contain both uppercase and lowercase letters\", \"\\n\",\n",
        "      \"c. Must contain at least one number between 0-9\", \"\\n\",\n",
        "      \"d. Must contain a special character -!,@,#,$\")\n",
        "password = str(input(\"Password: \"))\n",
        "#check for 8 digit\n",
        "while len(password) != 8:\n",
        "  print(\"Invalid password. Try again!\")\n",
        "  password = input(\"Password: \")\n",
        "#check for upper and lower case  \n",
        "  for e in password:\n",
        "    if not e.islower():\n",
        "      print(\"Invalid password. Try again!\")\n",
        "    if not e.isupper():\n",
        "      print(\"Invalid password. Try again!\")\n",
        "#check for number      \n",
        "      number = ['0','1','2','3','4','5','6','7','8','9']\n",
        "      for ele in password: \n",
        "        if ele not in number:\n",
        "          print(\"Invalid password. Try again!\")\n",
        "          password = input(\"Password: \")\n",
        "#check for special digit\n",
        "          specialCharacters = [\"!\", \"@\", \"#\", \"$\"]\n",
        "          for elements in password:\n",
        "            if elements not in specialCharacters:\n",
        "              print(\"Invalid password. Try again!\")\n",
        "              password = input(\"Password: \")\n"
      ],
      "execution_count": null,
      "outputs": []
    },
    {
      "cell_type": "markdown",
      "metadata": {
        "id": "-0sdutTDnTKA"
      },
      "source": [
        "##### Q9. Given the score sheet of participants in a competition, you are required to find the runner-up score. You are given scores in a list. Find the score of the runner-up.\n",
        "\n",
        "```\n",
        "list1 - [2, 3, 6, 6, 5]\n",
        "runner_up - 5\n",
        "\n",
        "list2 - [1, 7, 5, 3, 10, 4, 5, 5, 6, 11]\n",
        "runner_up - 10\n",
        "```"
      ]
    },
    {
      "cell_type": "code",
      "metadata": {
        "id": "12YP9OaqpGRK",
        "colab": {
          "base_uri": "https://localhost:8080/"
        },
        "outputId": "47659368-9aea-4a23-f38e-40fe596585a5"
      },
      "source": [
        "# Type solution here\n",
        "list1 = [2, 3, 6, 6, 5]\n",
        "list1.sort()\n",
        "print(\"runner_up -\", list1[list1.index(max(list1))]-1)\n",
        "\n",
        "list2 - [1, 7, 5, 3, 10, 4, 5, 5, 6, 11]\n",
        "list2.sort()\n",
        "print(\"runner_up -\", list2[list2.index(max(list2))]-1)"
      ],
      "execution_count": null,
      "outputs": [
        {
          "output_type": "stream",
          "text": [
            "5\n"
          ],
          "name": "stdout"
        }
      ]
    }
  ]
}